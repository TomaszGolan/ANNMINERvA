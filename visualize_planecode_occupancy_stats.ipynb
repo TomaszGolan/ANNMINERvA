{
 "cells": [
  {
   "cell_type": "code",
   "execution_count": 1,
   "metadata": {
    "collapsed": false
   },
   "outputs": [
    {
     "name": "stderr",
     "output_type": "stream",
     "text": [
      "/Users/perdue/anaconda/lib/python2.7/site-packages/matplotlib/font_manager.py:273: UserWarning: Matplotlib is building the font cache using fc-list. This may take a moment.\n",
      "  warnings.warn('Matplotlib is building the font cache using fc-list. This may take a moment.')\n"
     ]
    }
   ],
   "source": [
    "import numpy as np\n",
    "import matplotlib.pyplot as plt\n",
    "import h5py\n",
    "%matplotlib inline"
   ]
  },
  {
   "cell_type": "code",
   "execution_count": 2,
   "metadata": {
    "collapsed": true
   },
   "outputs": [],
   "source": [
    "f = h5py.File('minosmatch_nukecczdefs_genallz_pcodecap66_127x50x25_xuv_me1Bmc_0000.hdf5', 'r')"
   ]
  },
  {
   "cell_type": "code",
   "execution_count": 3,
   "metadata": {
    "collapsed": false
   },
   "outputs": [
    {
     "data": {
      "image/png": "[encoded data removed]",
      "text/plain": [
       "<matplotlib.figure.Figure at 0x104b5c550>"
      ]
     },
     "metadata": {},
     "output_type": "display_data"
    }
   ],
   "source": [
    "n, bins, patches = plt.hist(f['planecodes'])"
   ]
  },
  {
   "cell_type": "code",
   "execution_count": 4,
   "metadata": {
    "collapsed": false
   },
   "outputs": [
    {
     "data": {
      "image/png": "[encoded data removed]",
      "text/plain": [
       "<matplotlib.figure.Figure at 0x10ab5f510>"
      ]
     },
     "metadata": {},
     "output_type": "display_data"
    }
   ],
   "source": [
    "_, _, _ = plt.hist(f['planecodes'], bins=214, range=(0, 214))"
   ]
  },
  {
   "cell_type": "code",
   "execution_count": 5,
   "metadata": {
    "collapsed": true
   },
   "outputs": [],
   "source": [
    "import plane_codes"
   ]
  },
  {
   "cell_type": "code",
   "execution_count": 6,
   "metadata": {
    "collapsed": false
   },
   "outputs": [
    {
     "data": {
      "text/plain": [
       "{0: (-999, -999, -999),\n",
       " 1: (-5, 1, 0),\n",
       " 2: (-5, 2, 0),\n",
       " 3: (-4, 1, 0),\n",
       " 4: (-4, 2, 0),\n",
       " 5: (-3, 1, 0),\n",
       " 6: (-3, 2, 0),\n",
       " 7: (-2, 1, 0),\n",
       " 8: (-2, 2, 0),\n",
       " 9: (-1, 0, 1),\n",
       " 10: (0, 1, 0),\n",
       " 11: (0, 2, 0),\n",
       " 12: (1, 1, 0),\n",
       " 13: (1, 2, 0),\n",
       " 14: (2, 1, 0),\n",
       " 15: (2, 2, 0),\n",
       " 16: (3, 1, 0),\n",
       " 17: (3, 2, 0),\n",
       " 18: (4, 0, 2),\n",
       " 19: (5, 1, 0),\n",
       " 20: (5, 2, 0),\n",
       " 21: (6, 1, 0),\n",
       " 22: (6, 2, 0),\n",
       " 23: (7, 1, 0),\n",
       " 24: (7, 2, 0),\n",
       " 25: (8, 1, 0),\n",
       " 26: (8, 2, 0),\n",
       " 27: (9, 0, 3),\n",
       " 28: (11, 1, 0),\n",
       " 29: (11, 2, 0),\n",
       " 30: (12, 1, 0),\n",
       " 31: (12, 2, 0),\n",
       " 32: (13, 1, 0),\n",
       " 33: (13, 2, 0),\n",
       " 34: (14, 1, 0),\n",
       " 35: (14, 2, 0),\n",
       " 36: (15, 1, 0),\n",
       " 37: (15, 2, 0),\n",
       " 38: (16, 1, 0),\n",
       " 39: (16, 2, 0),\n",
       " 40: (17, 1, 0),\n",
       " 41: (17, 2, 0),\n",
       " 42: (18, 1, 0),\n",
       " 43: (18, 2, 0),\n",
       " 44: (19, 0, 4),\n",
       " 45: (20, 1, 0),\n",
       " 46: (20, 2, 0),\n",
       " 47: (21, 1, 0),\n",
       " 48: (21, 2, 0),\n",
       " 49: (22, 0, 5),\n",
       " 50: (23, 1, 0),\n",
       " 51: (23, 2, 0),\n",
       " 52: (24, 1, 0),\n",
       " 53: (24, 2, 0),\n",
       " 54: (25, 1, 0),\n",
       " 55: (25, 2, 0),\n",
       " 56: (26, 1, 0),\n",
       " 57: (26, 2, 0),\n",
       " 58: (27, 1, 0),\n",
       " 59: (27, 2, 0),\n",
       " 60: (28, 1, 0),\n",
       " 61: (28, 2, 0),\n",
       " 62: (29, 1, 0),\n",
       " 63: (29, 2, 0),\n",
       " 64: (30, 1, 0),\n",
       " 65: (30, 2, 0),\n",
       " 66: (31, 1, 0),\n",
       " 67: (31, 2, 0),\n",
       " 68: (32, 1, 0),\n",
       " 69: (32, 2, 0),\n",
       " 70: (33, 1, 0),\n",
       " 71: (33, 2, 0),\n",
       " 72: (34, 1, 0),\n",
       " 73: (34, 2, 0),\n",
       " 74: (35, 1, 0),\n",
       " 75: (35, 2, 0),\n",
       " 76: (36, 1, 0),\n",
       " 77: (36, 2, 0),\n",
       " 78: (37, 1, 0),\n",
       " 79: (37, 2, 0),\n",
       " 80: (38, 1, 0),\n",
       " 81: (38, 2, 0),\n",
       " 82: (39, 1, 0),\n",
       " 83: (39, 2, 0),\n",
       " 84: (40, 1, 0),\n",
       " 85: (40, 2, 0),\n",
       " 86: (41, 1, 0),\n",
       " 87: (41, 2, 0),\n",
       " 88: (42, 1, 0),\n",
       " 89: (42, 2, 0),\n",
       " 90: (43, 1, 0),\n",
       " 91: (43, 2, 0),\n",
       " 92: (44, 1, 0),\n",
       " 93: (44, 2, 0),\n",
       " 94: (45, 1, 0),\n",
       " 95: (45, 2, 0),\n",
       " 96: (46, 1, 0),\n",
       " 97: (46, 2, 0),\n",
       " 98: (47, 1, 0),\n",
       " 99: (47, 2, 0),\n",
       " 100: (48, 1, 0),\n",
       " 101: (48, 2, 0),\n",
       " 102: (49, 1, 0),\n",
       " 103: (49, 2, 0),\n",
       " 104: (50, 1, 0),\n",
       " 105: (50, 2, 0),\n",
       " 106: (51, 1, 0),\n",
       " 107: (51, 2, 0),\n",
       " 108: (52, 1, 0),\n",
       " 109: (52, 2, 0),\n",
       " 110: (53, 1, 0),\n",
       " 111: (53, 2, 0),\n",
       " 112: (54, 1, 0),\n",
       " 113: (54, 2, 0),\n",
       " 114: (55, 1, 0),\n",
       " 115: (55, 2, 0),\n",
       " 116: (56, 1, 0),\n",
       " 117: (56, 2, 0),\n",
       " 118: (57, 1, 0),\n",
       " 119: (57, 2, 0),\n",
       " 120: (58, 1, 0),\n",
       " 121: (58, 2, 0),\n",
       " 122: (59, 1, 0),\n",
       " 123: (59, 2, 0),\n",
       " 124: (60, 1, 0),\n",
       " 125: (60, 2, 0),\n",
       " 126: (61, 1, 0),\n",
       " 127: (61, 2, 0),\n",
       " 128: (62, 1, 0),\n",
       " 129: (62, 2, 0),\n",
       " 130: (63, 1, 0),\n",
       " 131: (63, 2, 0),\n",
       " 132: (64, 1, 0),\n",
       " 133: (64, 2, 0),\n",
       " 134: (65, 1, 0),\n",
       " 135: (65, 2, 0),\n",
       " 136: (66, 1, 0),\n",
       " 137: (66, 2, 0),\n",
       " 138: (67, 1, 0),\n",
       " 139: (67, 2, 0),\n",
       " 140: (68, 1, 0),\n",
       " 141: (68, 2, 0),\n",
       " 142: (69, 1, 0),\n",
       " 143: (69, 2, 0),\n",
       " 144: (70, 1, 0),\n",
       " 145: (70, 2, 0),\n",
       " 146: (71, 1, 0),\n",
       " 147: (71, 2, 0),\n",
       " 148: (72, 1, 0),\n",
       " 149: (72, 2, 0),\n",
       " 150: (73, 1, 0),\n",
       " 151: (73, 2, 0),\n",
       " 152: (74, 1, 0),\n",
       " 153: (74, 2, 0),\n",
       " 154: (75, 1, 0),\n",
       " 155: (75, 2, 0),\n",
       " 156: (76, 1, 0),\n",
       " 157: (76, 2, 0),\n",
       " 158: (77, 1, 0),\n",
       " 159: (77, 2, 0),\n",
       " 160: (78, 1, 0),\n",
       " 161: (78, 2, 0),\n",
       " 162: (79, 1, 0),\n",
       " 163: (79, 2, 0),\n",
       " 164: (80, 1, 0),\n",
       " 165: (80, 2, 0),\n",
       " 166: (81, 1, 0),\n",
       " 167: (81, 2, 0),\n",
       " 168: (82, 1, 0),\n",
       " 169: (82, 2, 0),\n",
       " 170: (83, 1, 0),\n",
       " 171: (83, 2, 0),\n",
       " 172: (84, 1, 0),\n",
       " 173: (84, 2, 0),\n",
       " 174: (85, 1, 0),\n",
       " 175: (85, 2, 0),\n",
       " 176: (86, 1, 0),\n",
       " 177: (86, 2, 0),\n",
       " 178: (87, 1, 0),\n",
       " 179: (87, 2, 0),\n",
       " 180: (88, 1, 0),\n",
       " 181: (88, 2, 0),\n",
       " 182: (89, 1, 0),\n",
       " 183: (89, 2, 0),\n",
       " 184: (90, 1, 0),\n",
       " 185: (90, 2, 0),\n",
       " 186: (91, 1, 0),\n",
       " 187: (91, 2, 0),\n",
       " 188: (92, 1, 0),\n",
       " 189: (92, 2, 0),\n",
       " 190: (93, 1, 0),\n",
       " 191: (93, 2, 0),\n",
       " 192: (94, 1, 0),\n",
       " 193: (94, 2, 0),\n",
       " 194: (95, 2, 0),\n",
       " 195: (96, 2, 0),\n",
       " 196: (97, 2, 0),\n",
       " 197: (98, 2, 0),\n",
       " 198: (99, 2, 0),\n",
       " 199: (100, 2, 0),\n",
       " 200: (101, 2, 0),\n",
       " 201: (102, 2, 0),\n",
       " 202: (103, 2, 0),\n",
       " 203: (104, 2, 0),\n",
       " 204: (105, 2, 0),\n",
       " 205: (106, 2, 0),\n",
       " 206: (107, 2, 0),\n",
       " 207: (108, 2, 0),\n",
       " 208: (109, 2, 0),\n",
       " 209: (110, 2, 0),\n",
       " 210: (111, 2, 0),\n",
       " 211: (112, 2, 0),\n",
       " 212: (113, 2, 0),\n",
       " 213: (114, 2, 0)}"
      ]
     },
     "execution_count": 6,
     "metadata": {},
     "output_type": "execute_result"
    }
   ],
   "source": [
    "plane_codes.build_reversed_indexed_codes()"
   ]
  },
  {
   "cell_type": "code",
   "execution_count": 7,
   "metadata": {
    "collapsed": false
   },
   "outputs": [
    {
     "data": {
      "image/png": "[encoded data removed]",
      "text/plain": [
       "<matplotlib.figure.Figure at 0x111c9e9d0>"
      ]
     },
     "metadata": {},
     "output_type": "display_data"
    }
   ],
   "source": [
    "n, bins, patches = plt.hist(f['planecodes'], bins=np.arange(71))"
   ]
  },
  {
   "cell_type": "code",
   "execution_count": 8,
   "metadata": {
    "collapsed": false
   },
   "outputs": [],
   "source": [
    "planes = np.zeros(np.shape(f['planecodes']))\n",
    "f['planecodes'].read_direct(planes)"
   ]
  },
  {
   "cell_type": "code",
   "execution_count": 9,
   "metadata": {
    "collapsed": false
   },
   "outputs": [
    {
     "data": {
      "text/plain": [
       "(array([  3.85000000e+02,   9.00000000e+00,   9.00000000e+00,\n",
       "          1.00000000e+01,   2.30000000e+01,   2.00000000e+01,\n",
       "          3.30000000e+01,   7.80000000e+01,   7.40000000e+01,\n",
       "          1.01500000e+03,   9.60000000e+01,   8.70000000e+01,\n",
       "          9.30000000e+01,   9.20000000e+01,   9.30000000e+01,\n",
       "          8.30000000e+01,   1.06000000e+02,   8.70000000e+01,\n",
       "          1.10300000e+03,   8.80000000e+01,   9.50000000e+01,\n",
       "          8.20000000e+01,   8.60000000e+01,   8.30000000e+01,\n",
       "          9.90000000e+01,   9.20000000e+01,   9.40000000e+01,\n",
       "          8.27000000e+02,   9.40000000e+01,   8.80000000e+01,\n",
       "          9.50000000e+01,   9.50000000e+01,   9.70000000e+01,\n",
       "          1.10000000e+02,   1.02000000e+02,   8.90000000e+01,\n",
       "          9.70000000e+01,   9.50000000e+01,   9.70000000e+01,\n",
       "          1.13000000e+02,   9.40000000e+01,   1.31000000e+02,\n",
       "          1.16000000e+02,   9.50000000e+01,   4.73000000e+02,\n",
       "          1.22000000e+02,   1.11000000e+02,   1.04000000e+02,\n",
       "          1.11000000e+02,   6.26000000e+02,   9.90000000e+01,\n",
       "          1.17000000e+02,   1.11000000e+02,   9.90000000e+01,\n",
       "          9.30000000e+01,   1.10000000e+02,   1.10000000e+02,\n",
       "          1.32000000e+02,   1.00000000e+02,   1.15000000e+02,\n",
       "          1.10000000e+02,   1.03000000e+02,   1.11000000e+02,\n",
       "          1.21000000e+02,   1.16000000e+02,   1.14000000e+02,\n",
       "          1.50410000e+04,   0.00000000e+00,   0.00000000e+00,\n",
       "          0.00000000e+00]),\n",
       " array([ 0,  1,  2,  3,  4,  5,  6,  7,  8,  9, 10, 11, 12, 13, 14, 15, 16,\n",
       "        17, 18, 19, 20, 21, 22, 23, 24, 25, 26, 27, 28, 29, 30, 31, 32, 33,\n",
       "        34, 35, 36, 37, 38, 39, 40, 41, 42, 43, 44, 45, 46, 47, 48, 49, 50,\n",
       "        51, 52, 53, 54, 55, 56, 57, 58, 59, 60, 61, 62, 63, 64, 65, 66, 67,\n",
       "        68, 69, 70]),\n",
       " <a list of 70 Patch objects>)"
      ]
     },
     "execution_count": 9,
     "metadata": {},
     "output_type": "execute_result"
    },
    {
     "data": {
      "image/png": "[encoded data removed]",
      "text/plain": [
       "<matplotlib.figure.Figure at 0x1115e0b50>"
      ]
     },
     "metadata": {},
     "output_type": "display_data"
    }
   ],
   "source": [
    "plt.hist(planes[planes < 70], bins=np.arange(71))  # last bins are `[67, 68), [68, 69), [69, 70)`"
   ]
  },
  {
   "cell_type": "code",
   "execution_count": 10,
   "metadata": {
    "collapsed": false
   },
   "outputs": [
    {
     "name": "stdout",
     "output_type": "stream",
     "text": [
      "70\n",
      "71\n"
     ]
    },
    {
     "data": {
      "image/png": "[encoded data removed]",
      "text/plain": [
       "<matplotlib.figure.Figure at 0x1115e04d0>"
      ]
     },
     "metadata": {},
     "output_type": "display_data"
    }
   ],
   "source": [
    "n, bins, _ = plt.hist(planes[planes < 70], bins=np.arange(71))\n",
    "print len(n)\n",
    "print len(bins)"
   ]
  },
  {
   "cell_type": "code",
   "execution_count": 11,
   "metadata": {
    "collapsed": false
   },
   "outputs": [
    {
     "name": "stdout",
     "output_type": "stream",
     "text": [
      "False\n"
     ]
    }
   ],
   "source": [
    "print any(planes == 67)"
   ]
  },
  {
   "cell_type": "code",
   "execution_count": 12,
   "metadata": {
    "collapsed": false
   },
   "outputs": [
    {
     "name": "stdout",
     "output_type": "stream",
     "text": [
      "False\n"
     ]
    }
   ],
   "source": [
    "print any(planes > 66)"
   ]
  },
  {
   "cell_type": "code",
   "execution_count": 13,
   "metadata": {
    "collapsed": false
   },
   "outputs": [
    {
     "name": "stdout",
     "output_type": "stream",
     "text": [
      "False\n"
     ]
    }
   ],
   "source": [
    "print any(planes < 0)"
   ]
  },
  {
   "cell_type": "code",
   "execution_count": 14,
   "metadata": {
    "collapsed": false
   },
   "outputs": [
    {
     "data": {
      "image/png": "[encoded data removed]",
      "text/plain": [
       "<matplotlib.figure.Figure at 0x11246a2d0>"
      ]
     },
     "metadata": {},
     "output_type": "display_data"
    }
   ],
   "source": [
    "a = np.where(planes >= 8)\n",
    "b = np.where(planes <= 11)\n",
    "c = list(set(a[0]) & set(b[0]))\n",
    "n, bins, patches = plt.hist(planes[c])    # tgt1 == 9"
   ]
  },
  {
   "cell_type": "code",
   "execution_count": 15,
   "metadata": {
    "collapsed": false
   },
   "outputs": [
    {
     "data": {
      "image/png": "[encoded data removed]",
      "text/plain": [
       "<matplotlib.figure.Figure at 0x1127a4e90>"
      ]
     },
     "metadata": {},
     "output_type": "display_data"
    }
   ],
   "source": [
    "a = np.where(planes >= 17)\n",
    "b = np.where(planes <= 20)\n",
    "c = list(set(a[0]) & set(b[0]))\n",
    "n, bins, patches = plt.hist(planes[c])    # tgt2 == 18"
   ]
  },
  {
   "cell_type": "code",
   "execution_count": 16,
   "metadata": {
    "collapsed": false
   },
   "outputs": [
    {
     "data": {
      "image/png": "[encoded data removed]",
      "text/plain": [
       "<matplotlib.figure.Figure at 0x112dd4b50>"
      ]
     },
     "metadata": {},
     "output_type": "display_data"
    }
   ],
   "source": [
    "a = np.where(planes >= 26)\n",
    "b = np.where(planes <= 29)\n",
    "c = list(set(a[0]) & set(b[0]))\n",
    "n, bins, patches = plt.hist(planes[c])    # tgt3 == 27"
   ]
  },
  {
   "cell_type": "code",
   "execution_count": 17,
   "metadata": {
    "collapsed": false
   },
   "outputs": [
    {
     "data": {
      "image/png": "[encoded data removed]",
      "text/plain": [
       "<matplotlib.figure.Figure at 0x113176d50>"
      ]
     },
     "metadata": {},
     "output_type": "display_data"
    }
   ],
   "source": [
    "a = np.where(planes >= 43)\n",
    "b = np.where(planes <= 46)\n",
    "c = list(set(a[0]) & set(b[0]))\n",
    "n, bins, patches = plt.hist(planes[c])    # tgt4 == 44"
   ]
  },
  {
   "cell_type": "code",
   "execution_count": 18,
   "metadata": {
    "collapsed": false
   },
   "outputs": [
    {
     "data": {
      "image/png": "[encoded data removed]",
      "text/plain": [
       "<matplotlib.figure.Figure at 0x1132496d0>"
      ]
     },
     "metadata": {},
     "output_type": "display_data"
    }
   ],
   "source": [
    "a = np.where(planes >= 48)\n",
    "b = np.where(planes <= 51)\n",
    "c = list(set(a[0]) & set(b[0]))\n",
    "n, bins, patches = plt.hist(planes[c])    # tgt5 == 49"
   ]
  },
  {
   "cell_type": "code",
   "execution_count": 19,
   "metadata": {
    "collapsed": true
   },
   "outputs": [],
   "source": [
    "segments = np.zeros(np.shape(f['segments']))\n",
    "f['segments'].read_direct(segments)"
   ]
  },
  {
   "cell_type": "code",
   "execution_count": 20,
   "metadata": {
    "collapsed": false
   },
   "outputs": [
    {
     "data": {
      "text/plain": [
       "(array([   232.,   1265.,   1364.,   1096.,    794.,   1010.,    478.,\n",
       "           447.,   1338.,    112.,  16863.]),\n",
       " array([ 0,  1,  2,  3,  4,  5,  6,  7,  8,  9, 10, 11]),\n",
       " <a list of 11 Patch objects>)"
      ]
     },
     "execution_count": 20,
     "metadata": {},
     "output_type": "execute_result"
    },
    {
     "data": {
      "image/png": "[encoded data removed]",
      "text/plain": [
       "<matplotlib.figure.Figure at 0x11321f350>"
      ]
     },
     "metadata": {},
     "output_type": "display_data"
    }
   ],
   "source": [
    "plt.hist(segments, bins=np.arange(12))"
   ]
  },
  {
   "cell_type": "code",
   "execution_count": 21,
   "metadata": {
    "collapsed": false
   },
   "outputs": [
    {
     "name": "stdout",
     "output_type": "stream",
     "text": [
      "0.0\n",
      "66.0\n"
     ]
    }
   ],
   "source": [
    "print np.min(planes)\n",
    "print np.max(planes)"
   ]
  },
  {
   "cell_type": "code",
   "execution_count": null,
   "metadata": {
    "collapsed": true
   },
   "outputs": [],
   "source": []
  }
 ],
 "metadata": {
  "kernelspec": {
   "display_name": "Python 2",
   "language": "python",
   "name": "python2"
  },
  "language_info": {
   "codemirror_mode": {
    "name": "ipython",
    "version": 2
   },
   "file_extension": ".py",
   "mimetype": "text/x-python",
   "name": "python",
   "nbconvert_exporter": "python",
   "pygments_lexer": "ipython2",
   "version": "2.7.11"
  }
 },
 "nbformat": 4,
 "nbformat_minor": 0
}
