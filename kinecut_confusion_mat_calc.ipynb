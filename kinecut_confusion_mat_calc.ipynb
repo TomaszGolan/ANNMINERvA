{
 "cells": [
  {
   "cell_type": "code",
   "execution_count": 1,
   "metadata": {
    "collapsed": true
   },
   "outputs": [],
   "source": [
    "import numpy as np\n",
    "import h5py\n",
    "from six.moves import range"
   ]
  },
  {
   "cell_type": "code",
   "execution_count": 2,
   "metadata": {},
   "outputs": [
    {
     "name": "stdout",
     "output_type": "stream",
     "text": [
      "Q2\n",
      "W\n",
      "current\n",
      "eventids\n",
      "int_type\n",
      "lepE\n",
      "nuE\n",
      "planecodes_actual\n",
      "planecodes_pred\n",
      "targZ\n",
      "xbj\n",
      "ybj\n"
     ]
    }
   ],
   "source": [
    "f = h5py.File('me1Amc_zzpredpluskine.hdf5', 'r')\n",
    "for name in f:\n",
    "    print(name)"
   ]
  },
  {
   "cell_type": "code",
   "execution_count": 3,
   "metadata": {
    "collapsed": true
   },
   "outputs": [],
   "source": [
    "arr_all = np.zeros(shape=(67, 67))\n",
    "arr_lowQ2 = np.zeros(shape=(67, 67))\n",
    "arr_highQ2 = np.zeros(shape=(67, 67))\n",
    "arr_lowW = np.zeros(shape=(67, 67))\n",
    "arr_highW = np.zeros(shape=(67, 67))"
   ]
  },
  {
   "cell_type": "code",
   "execution_count": 4,
   "metadata": {},
   "outputs": [
    {
     "name": "stdout",
     "output_type": "stream",
     "text": [
      "n events = 179909\n",
      "n low Q2 = 124360.0 (0.691238348276)\n",
      "n high Q2 = 55549.0 (0.308761651724)\n",
      "n low W = 61559.0 (0.342167429089)\n",
      "n high W = 118350.0 (0.657832570911)\n"
     ]
    }
   ],
   "source": [
    "n_events = f['eventids'].shape[0]\n",
    "# n_events = 100\n",
    "print('n events = {}'.format(n_events))\n",
    "\n",
    "n_lowQ2 = 0.\n",
    "n_highQ2 = 0.\n",
    "n_lowW = 0.\n",
    "n_highW = 0.\n",
    "\n",
    "for i in range(n_events):\n",
    "    pred = f['planecodes_pred'][i]\n",
    "    actl = f['planecodes_actual'][i]\n",
    "#    if pred == 66 and actl == 66:\n",
    "#        continue\n",
    "    arr_all[actl, pred] += 1.0\n",
    "    if f['Q2'][i] < 1.0e6:\n",
    "        arr_lowQ2[actl, pred] += 1.0\n",
    "        n_lowQ2 += 1.0\n",
    "    else:\n",
    "        arr_highQ2[actl, pred] += 1.0\n",
    "        n_highQ2 += 1.0\n",
    "    if f['W'][i] < 1.3e3:\n",
    "        arr_lowW[actl, pred] += 1.0\n",
    "        n_lowW += 1.0\n",
    "    else:\n",
    "        arr_highW[actl, pred] += 1.0\n",
    "        n_highW += 1.0\n",
    "        \n",
    "print('n low Q2 = {} ({})'.format(n_lowQ2, n_lowQ2 / n_events))\n",
    "print('n high Q2 = {} ({})'.format(n_highQ2, n_highQ2 / n_events))\n",
    "print('n low W = {} ({})'.format(n_lowW, n_lowW / n_events))\n",
    "print('n high W = {} ({})'.format(n_highW, n_highW / n_events))\n",
    "\n",
    "np.save('arr_all.npy', arr_all)\n",
    "np.save('arr_lowQ2.npy', arr_lowQ2)\n",
    "np.save('arr_highQ2.npy', arr_highQ2)\n",
    "np.save('arr_lowW.npy', arr_lowW)\n",
    "np.save('arr_highW.npy', arr_highW)"
   ]
  },
  {
   "cell_type": "code",
   "execution_count": 5,
   "metadata": {
    "collapsed": true
   },
   "outputs": [],
   "source": [
    "def miss_fracs(arr):\n",
    "    arr_total = np.sum(arr)\n",
    "    true_downstrm_miss = np.sum(arr[66,0:65])   # real 66 reco'd elsewhere\n",
    "    true_downstrm_miss_frac = true_downstrm_miss / arr_total\n",
    "    pred_downstrm_miss = np.sum(arr[0:65,66])   # real target region reco'd downstream\n",
    "    pred_downstrm_miss_frac = pred_downstrm_miss / arr_total\n",
    "    print('true down miss = {}, pred down miss = {}'.format(\n",
    "        true_downstrm_miss_frac, pred_downstrm_miss_frac\n",
    "    ))"
   ]
  },
  {
   "cell_type": "code",
   "execution_count": 6,
   "metadata": {},
   "outputs": [
    {
     "name": "stdout",
     "output_type": "stream",
     "text": [
      "all\n",
      "true down miss = 0.00117837351105, pred down miss = 0.0166195131983\n",
      "lowQ2\n",
      "true down miss = 0.00121421678996, pred down miss = 0.0149646188485\n",
      "highQ2\n",
      "true down miss = 0.00109812957929, pred down miss = 0.020324398279\n",
      "lowW\n",
      "true down miss = 0.00107214217255, pred down miss = 0.0149125229455\n",
      "highW\n",
      "true down miss = 0.00123362906633, pred down miss = 0.0175073933249\n"
     ]
    }
   ],
   "source": [
    "ll = list(zip(['all', 'lowQ2', 'highQ2', 'lowW', 'highW'],\n",
    "              [arr_all, arr_lowQ2, arr_highQ2, arr_lowW, arr_highW]))\n",
    "for a in ll:\n",
    "    print(a[0])\n",
    "    miss_fracs(a[1])"
   ]
  },
  {
   "cell_type": "code",
   "execution_count": null,
   "metadata": {
    "collapsed": true
   },
   "outputs": [],
   "source": []
  }
 ],
 "metadata": {
  "kernelspec": {
   "display_name": "Python 2",
   "language": "python",
   "name": "python2"
  },
  "language_info": {
   "codemirror_mode": {
    "name": "ipython",
    "version": 2
   },
   "file_extension": ".py",
   "mimetype": "text/x-python",
   "name": "python",
   "nbconvert_exporter": "python",
   "pygments_lexer": "ipython2",
   "version": "2.7.13"
  }
 },
 "nbformat": 4,
 "nbformat_minor": 2
}
