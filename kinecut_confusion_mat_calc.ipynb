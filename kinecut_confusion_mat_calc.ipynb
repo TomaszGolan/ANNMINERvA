{
 "cells": [
  {
   "cell_type": "code",
   "execution_count": 1,
   "metadata": {
    "collapsed": true
   },
   "outputs": [],
   "source": [
    "import numpy as np\n",
    "import h5py\n",
    "from six.moves import range"
   ]
  },
  {
   "cell_type": "code",
   "execution_count": 2,
   "metadata": {},
   "outputs": [
    {
     "name": "stdout",
     "output_type": "stream",
     "text": [
      "Q2\n",
      "W\n",
      "current\n",
      "eventids\n",
      "int_type\n",
      "lepE\n",
      "nuE\n",
      "planecodes_actual\n",
      "planecodes_pred\n",
      "targZ\n",
      "xbj\n",
      "ybj\n"
     ]
    }
   ],
   "source": [
    "f = h5py.File('me1Amc_zzpredpluskine.hdf5', 'r')\n",
    "for name in f:\n",
    "    print(name)"
   ]
  },
  {
   "cell_type": "code",
   "execution_count": 15,
   "metadata": {
    "collapsed": true
   },
   "outputs": [],
   "source": [
    "arr_all = np.zeros(shape=(67, 67))\n",
    "arr_lowQ2 = np.zeros(shape=(67, 67))\n",
    "arr_highQ2 = np.zeros(shape=(67, 67))\n",
    "arr_lowW = np.zeros(shape=(67, 67))\n",
    "arr_highW = np.zeros(shape=(67, 67))"
   ]
  },
  {
   "cell_type": "code",
   "execution_count": 16,
   "metadata": {},
   "outputs": [
    {
     "name": "stdout",
     "output_type": "stream",
     "text": [
      "n events = 159739\n",
      "n low Q2 = 110386.0 (0.691039758606)\n",
      "n high Q2 = 49353.0 (0.308960241394)\n",
      "n low W = 54227.0 (0.339472514539)\n",
      "n high W = 105512.0 (0.660527485461)\n"
     ]
    }
   ],
   "source": [
    "n_events = f['eventids'].shape[0]\n",
    "# n_events = 100\n",
    "print('n events = {}'.format(n_events))\n",
    "\n",
    "n_lowQ2 = 0.\n",
    "n_highQ2 = 0.\n",
    "n_lowW = 0.\n",
    "n_highW = 0.\n",
    "\n",
    "for i in range(n_events):\n",
    "    pred = f['planecodes_pred'][i]\n",
    "    actl = f['planecodes_actual'][i]\n",
    "#    if pred == 66 and actl == 66:\n",
    "#        continue\n",
    "    arr_all[actl, pred] += 1.0\n",
    "    if f['Q2'][i] < 1.0e6:\n",
    "        arr_lowQ2[actl, pred] += 1.0\n",
    "        n_lowQ2 += 1.0\n",
    "    else:\n",
    "        arr_highQ2[actl, pred] += 1.0\n",
    "        n_highQ2 += 1.0\n",
    "    if f['W'][i] < 1.3e3:\n",
    "        arr_lowW[actl, pred] += 1.0\n",
    "        n_lowW += 1.0\n",
    "    else:\n",
    "        arr_highW[actl, pred] += 1.0\n",
    "        n_highW += 1.0\n",
    "        \n",
    "print('n low Q2 = {} ({})'.format(n_lowQ2, n_lowQ2 / n_events))\n",
    "print('n high Q2 = {} ({})'.format(n_highQ2, n_highQ2 / n_events))\n",
    "print('n low W = {} ({})'.format(n_lowW, n_lowW / n_events))\n",
    "print('n high W = {} ({})'.format(n_highW, n_highW / n_events))\n",
    "\n",
    "np.save('arr_all.npy', arr_all)\n",
    "np.save('arr_lowQ2.npy', arr_lowQ2)\n",
    "np.save('arr_highQ2.npy', arr_highQ2)\n",
    "np.save('arr_lowW.npy', arr_lowW)\n",
    "np.save('arr_highW.npy', arr_highW)"
   ]
  },
  {
   "cell_type": "code",
   "execution_count": 17,
   "metadata": {
    "collapsed": true
   },
   "outputs": [],
   "source": [
    "def miss_fracs(arr):\n",
    "    arr_total = np.sum(arr)\n",
    "    true_downstrm_miss = np.sum(arr[66,0:65])   # real 66 reco'd elsewhere\n",
    "    true_downstrm_miss_frac = true_downstrm_miss / arr_total\n",
    "    pred_downstrm_miss = np.sum(arr[0:65,66])   # real target region reco'd downstream\n",
    "    pred_downstrm_miss_frac = pred_downstrm_miss / arr_total\n",
    "    print('true down miss = {}, pred down miss = {}'.format(\n",
    "        true_downstrm_miss_frac, pred_downstrm_miss_frac\n",
    "    ))"
   ]
  },
  {
   "cell_type": "code",
   "execution_count": 18,
   "metadata": {},
   "outputs": [
    {
     "name": "stdout",
     "output_type": "stream",
     "text": [
      "all\n",
      "true down miss = 0.21419315258, pred down miss = 0.227126750512\n",
      "lowQ2\n",
      "true down miss = 0.214628666679, pred down miss = 0.226496113638\n",
      "highQ2\n",
      "true down miss = 0.213219054566, pred down miss = 0.228537272304\n",
      "lowW\n",
      "true down miss = 0.212919763218, pred down miss = 0.228004499604\n",
      "highW\n",
      "true down miss = 0.214847600273, pred down miss = 0.22667563879\n"
     ]
    }
   ],
   "source": [
    "ll = list(zip(['all', 'lowQ2', 'highQ2', 'lowW', 'highW'],\n",
    "              [arr_all, arr_lowQ2, arr_highQ2, arr_lowW, arr_highW]))\n",
    "for a in ll:\n",
    "    print(a[0])\n",
    "    miss_fracs(a[1])"
   ]
  },
  {
   "cell_type": "code",
   "execution_count": null,
   "metadata": {
    "collapsed": true
   },
   "outputs": [],
   "source": []
  }
 ],
 "metadata": {
  "kernelspec": {
   "display_name": "Python 2",
   "language": "python",
   "name": "python2"
  },
  "language_info": {
   "codemirror_mode": {
    "name": "ipython",
    "version": 2
   },
   "file_extension": ".py",
   "mimetype": "text/x-python",
   "name": "python",
   "nbconvert_exporter": "python",
   "pygments_lexer": "ipython2",
   "version": "2.7.13"
  }
 },
 "nbformat": 4,
 "nbformat_minor": 2
}
