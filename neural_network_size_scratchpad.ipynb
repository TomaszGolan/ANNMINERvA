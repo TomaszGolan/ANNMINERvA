{
 "cells": [
  {
   "cell_type": "markdown",
   "metadata": {},
   "source": [
    "### Neural network sizes"
   ]
  },
  {
   "cell_type": "markdown",
   "metadata": {},
   "source": [
    "How many parameters are in our \"alpha\" model? Three \"columns\" with 2 convolution and pooling layers per column, feeding a dense layer, then concatenated and fed into another dense layer..."
   ]
  },
  {
   "cell_type": "code",
   "execution_count": 49,
   "metadata": {
    "collapsed": true
   },
   "outputs": [],
   "source": [
    "imgw = 50\n",
    "imgh = 50\n",
    "depth = 1\n",
    "nviews = 3  # instead of rgb depth, we have x,u,v views..."
   ]
  },
  {
   "cell_type": "markdown",
   "metadata": {},
   "source": [
    "Real image dimensionality is (because u, v are interspersed with zero-columns to pad to the same size as x):"
   ]
  },
  {
   "cell_type": "code",
   "execution_count": 50,
   "metadata": {
    "collapsed": false
   },
   "outputs": [
    {
     "name": "stdout",
     "output_type": "stream",
     "text": [
      "5000\n"
     ]
    }
   ],
   "source": [
    "input_dim = imgw * imgh * 2\n",
    "print input_dim"
   ]
  },
  {
   "cell_type": "markdown",
   "metadata": {},
   "source": [
    "Per branch (view):"
   ]
  },
  {
   "cell_type": "code",
   "execution_count": 38,
   "metadata": {
    "collapsed": false
   },
   "outputs": [
    {
     "name": "stdout",
     "output_type": "stream",
     "text": [
      "320 24 24 32\n"
     ]
    }
   ],
   "source": [
    "# first layer has 32 3x3 filters\n",
    "# weights should have shape (num_filters, num_input_channels, filter_rows, filter_columns)\n",
    "filtw = 3\n",
    "filth = 3\n",
    "num_filters = 32\n",
    "npars = filtw * filth * num_filters * depth\n",
    "\n",
    "# biases? usually broadcast over depth? - yes...\n",
    "# biases should have shape (num_filters,)\n",
    "npars += num_filters\n",
    "\n",
    "# new image size, with 2x2 maxpooling\n",
    "imgw = (imgw - filtw + 1) / 2\n",
    "imgh = (imgh - filth + 1) / 2\n",
    "depth = num_filters\n",
    "\n",
    "print npars, imgh, imgw, depth"
   ]
  },
  {
   "cell_type": "code",
   "execution_count": 39,
   "metadata": {
    "collapsed": false
   },
   "outputs": [
    {
     "name": "stdout",
     "output_type": "stream",
     "text": [
      "9568 11 11 32\n"
     ]
    }
   ],
   "source": [
    "# second layer has 32 3x3 filters\n",
    "filtw = 3\n",
    "filth = 3\n",
    "num_filters = 32\n",
    "npars += filtw * filth * num_filters * depth\n",
    "npars += num_filters\n",
    "\n",
    "# new image size, with 2x2 maxpooling\n",
    "imgw = (imgw - filtw + 1) / 2\n",
    "imgh = (imgh - filth + 1) / 2\n",
    "depth = num_filters\n",
    "\n",
    "print npars, imgh, imgw, depth"
   ]
  },
  {
   "cell_type": "code",
   "execution_count": 40,
   "metadata": {
    "collapsed": false
   },
   "outputs": [
    {
     "name": "stdout",
     "output_type": "stream",
     "text": [
      "1001056\n"
     ]
    }
   ],
   "source": [
    "# now, feed into fully connected layer\n",
    "# dense layers should have size (num_inputs, num_units) with biases having size (num_units,)\n",
    "npars += imgh * imgw * depth * 256 + 256\n",
    "\n",
    "print npars"
   ]
  },
  {
   "cell_type": "code",
   "execution_count": 41,
   "metadata": {
    "collapsed": false
   },
   "outputs": [
    {
     "name": "stdout",
     "output_type": "stream",
     "text": [
      "3003168\n"
     ]
    }
   ],
   "source": [
    "# 3 views\n",
    "npars *= 3\n",
    "\n",
    "print npars"
   ]
  },
  {
   "cell_type": "code",
   "execution_count": 42,
   "metadata": {
    "collapsed": false
   },
   "outputs": [
    {
     "name": "stdout",
     "output_type": "stream",
     "text": [
      "3011627\n"
     ]
    }
   ],
   "source": [
    "# final dense layer of 11 outs\n",
    "npars += 11 * (256 * 3) + 11\n",
    "\n",
    "print npars"
   ]
  },
  {
   "cell_type": "code",
   "execution_count": 43,
   "metadata": {
    "collapsed": false
   },
   "outputs": [
    {
     "name": "stdout",
     "output_type": "stream",
     "text": [
      "12.046508\n"
     ]
    }
   ],
   "source": [
    "# datasize for float32 (4 bytes) in MB\n",
    "size = npars * 4 / 1000000.\n",
    "\n",
    "print size"
   ]
  },
  {
   "cell_type": "markdown",
   "metadata": {},
   "source": [
    "We observe a size on disk for this network of about 11 MB."
   ]
  },
  {
   "cell_type": "markdown",
   "metadata": {},
   "source": [
    "The size alone suggests how many params?"
   ]
  },
  {
   "cell_type": "code",
   "execution_count": 36,
   "metadata": {
    "collapsed": false
   },
   "outputs": [
    {
     "data": {
      "text/plain": [
       "2750000.0"
      ]
     },
     "execution_count": 36,
     "metadata": {},
     "output_type": "execute_result"
    }
   ],
   "source": [
    "11e6 / 4."
   ]
  },
  {
   "cell_type": "code",
   "execution_count": 46,
   "metadata": {
    "collapsed": false
   },
   "outputs": [
    {
     "data": {
      "text/plain": [
       "0.08687231187660358"
      ]
     },
     "execution_count": 46,
     "metadata": {},
     "output_type": "execute_result"
    }
   ],
   "source": [
    "(npars - 11e6 / 4.) / npars"
   ]
  },
  {
   "cell_type": "code",
   "execution_count": null,
   "metadata": {
    "collapsed": true
   },
   "outputs": [],
   "source": []
  }
 ],
 "metadata": {
  "kernelspec": {
   "display_name": "Python 2",
   "language": "python",
   "name": "python2"
  },
  "language_info": {
   "codemirror_mode": {
    "name": "ipython",
    "version": 2
   },
   "file_extension": ".py",
   "mimetype": "text/x-python",
   "name": "python",
   "nbconvert_exporter": "python",
   "pygments_lexer": "ipython2",
   "version": "2.7.11"
  }
 },
 "nbformat": 4,
 "nbformat_minor": 0
}
